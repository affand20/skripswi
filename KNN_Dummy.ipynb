{
  "nbformat": 4,
  "nbformat_minor": 0,
  "metadata": {
    "colab": {
      "name": "KNN Dummy",
      "provenance": [],
      "collapsed_sections": []
    },
    "kernelspec": {
      "name": "python3",
      "display_name": "Python 3"
    }
  },
  "cells": [
    {
      "cell_type": "markdown",
      "metadata": {
        "id": "UDqIJW5HUsOp",
        "colab_type": "text"
      },
      "source": [
        "# Load Dummy Dataset"
      ]
    },
    {
      "cell_type": "code",
      "metadata": {
        "id": "PQo1pU0KUrqP",
        "colab_type": "code",
        "outputId": "20af2320-2ea7-43bb-abf2-ba5365aea9ae",
        "colab": {
          "base_uri": "https://localhost:8080/",
          "height": 124
        }
      },
      "source": [
        "from google.colab import drive\n",
        "drive.mount('/content/gdrive', force_remount=True)"
      ],
      "execution_count": 0,
      "outputs": [
        {
          "output_type": "stream",
          "text": [
            "Go to this URL in a browser: https://accounts.google.com/o/oauth2/auth?client_id=947318989803-6bn6qk8qdgf4n4g3pfee6491hc0brc4i.apps.googleusercontent.com&redirect_uri=urn%3aietf%3awg%3aoauth%3a2.0%3aoob&response_type=code&scope=email%20https%3a%2f%2fwww.googleapis.com%2fauth%2fdocs.test%20https%3a%2f%2fwww.googleapis.com%2fauth%2fdrive%20https%3a%2f%2fwww.googleapis.com%2fauth%2fdrive.photos.readonly%20https%3a%2f%2fwww.googleapis.com%2fauth%2fpeopleapi.readonly\n",
            "\n",
            "Enter your authorization code:\n",
            "··········\n",
            "Mounted at /content/gdrive\n"
          ],
          "name": "stdout"
        }
      ]
    },
    {
      "cell_type": "markdown",
      "metadata": {
        "id": "sA8Bu94-Vc5A",
        "colab_type": "text"
      },
      "source": [
        "# Plotting Data"
      ]
    },
    {
      "cell_type": "code",
      "metadata": {
        "id": "kYhTB0dIVyhk",
        "colab_type": "code",
        "colab": {}
      },
      "source": [
        "import pandas as pd\n",
        "import matplotlib.pyplot as plt"
      ],
      "execution_count": 0,
      "outputs": []
    },
    {
      "cell_type": "code",
      "metadata": {
        "id": "78gtoidtdWgx",
        "colab_type": "code",
        "outputId": "6db45420-e33b-492d-e361-9ac18b5edd0d",
        "colab": {
          "base_uri": "https://localhost:8080/",
          "height": 202
        }
      },
      "source": [
        "# read csv\n",
        "dummy = pd.read_csv('gdrive/My Drive/skripswi/data-dummy.csv')\n",
        "\n",
        "# assign label name\n",
        "def set_label(row_number, assigned_value):\n",
        "  return assigned_value[row_number]\n",
        "\n",
        "label_name = {1: 'positif', 2: 'negatif', 3: 'netral'}\n",
        "dummy['nama_label'] = dummy['label'].apply(set_label, args=(label_name, ))\n",
        "\n",
        "col = ['text', 'label', 'nama_label']\n",
        "dummy = dummy[col]\n",
        "dummy.head()"
      ],
      "execution_count": 0,
      "outputs": [
        {
          "output_type": "execute_result",
          "data": {
            "text/html": [
              "<div>\n",
              "<style scoped>\n",
              "    .dataframe tbody tr th:only-of-type {\n",
              "        vertical-align: middle;\n",
              "    }\n",
              "\n",
              "    .dataframe tbody tr th {\n",
              "        vertical-align: top;\n",
              "    }\n",
              "\n",
              "    .dataframe thead th {\n",
              "        text-align: right;\n",
              "    }\n",
              "</style>\n",
              "<table border=\"1\" class=\"dataframe\">\n",
              "  <thead>\n",
              "    <tr style=\"text-align: right;\">\n",
              "      <th></th>\n",
              "      <th>text</th>\n",
              "      <th>label</th>\n",
              "      <th>nama_label</th>\n",
              "    </tr>\n",
              "  </thead>\n",
              "  <tbody>\n",
              "    <tr>\n",
              "      <th>0</th>\n",
              "      <td>Tuhh anak gubernur Jabar gimana??? Tentu pembu...</td>\n",
              "      <td>3</td>\n",
              "      <td>netral</td>\n",
              "    </tr>\n",
              "    <tr>\n",
              "      <th>1</th>\n",
              "      <td>Ada benernya jg kalau disegmen2kan gitu yang p...</td>\n",
              "      <td>3</td>\n",
              "      <td>netral</td>\n",
              "    </tr>\n",
              "    <tr>\n",
              "      <th>2</th>\n",
              "      <td>Jadi sistem zonasi masih ada ya. Rumah gw baik...</td>\n",
              "      <td>3</td>\n",
              "      <td>netral</td>\n",
              "    </tr>\n",
              "    <tr>\n",
              "      <th>3</th>\n",
              "      <td>Check out a great #article Legislator Akui Sis...</td>\n",
              "      <td>3</td>\n",
              "      <td>netral</td>\n",
              "    </tr>\n",
              "    <tr>\n",
              "      <th>4</th>\n",
              "      <td>Sekolah zonasi aja udah kek gini  janganlah ka...</td>\n",
              "      <td>3</td>\n",
              "      <td>netral</td>\n",
              "    </tr>\n",
              "  </tbody>\n",
              "</table>\n",
              "</div>"
            ],
            "text/plain": [
              "                                                text  label nama_label\n",
              "0  Tuhh anak gubernur Jabar gimana??? Tentu pembu...      3     netral\n",
              "1  Ada benernya jg kalau disegmen2kan gitu yang p...      3     netral\n",
              "2  Jadi sistem zonasi masih ada ya. Rumah gw baik...      3     netral\n",
              "3  Check out a great #article Legislator Akui Sis...      3     netral\n",
              "4  Sekolah zonasi aja udah kek gini  janganlah ka...      3     netral"
            ]
          },
          "metadata": {
            "tags": []
          },
          "execution_count": 4
        }
      ]
    },
    {
      "cell_type": "code",
      "metadata": {
        "id": "TrLQsEtzZW-7",
        "colab_type": "code",
        "outputId": "fa3b28f2-abcd-468b-8ba7-816e222b3721",
        "colab": {
          "base_uri": "https://localhost:8080/",
          "height": 484
        }
      },
      "source": [
        "print(dummy['nama_label'].value_counts())\n",
        "fig = plt.figure(figsize=(8,6))\n",
        "dummy.groupby('nama_label').text.count().plot.bar(ylim=0)\n",
        "plt.show()"
      ],
      "execution_count": 0,
      "outputs": [
        {
          "output_type": "stream",
          "text": [
            "netral     150\n",
            "positif    137\n",
            "negatif    110\n",
            "Name: nama_label, dtype: int64\n"
          ],
          "name": "stdout"
        },
        {
          "output_type": "display_data",
          "data": {
            "image/png": "[encoded data removed]",
            "text/plain": [
              "<Figure size 576x432 with 1 Axes>"
            ]
          },
          "metadata": {
            "tags": []
          }
        }
      ]
    },
    {
      "cell_type": "markdown",
      "metadata": {
        "id": "gop--v-gZrSt",
        "colab_type": "text"
      },
      "source": [
        "# Preprocessing"
      ]
    },
    {
      "cell_type": "code",
      "metadata": {
        "id": "kE5JavnYZtOh",
        "colab_type": "code",
        "outputId": "2a586940-e017-465c-8f51-2e39c728777a",
        "colab": {
          "base_uri": "https://localhost:8080/",
          "height": 173
        }
      },
      "source": [
        "!pip install sastrawi\n",
        "\n",
        "import re\n",
        "import string\n",
        "import nltk\n",
        "from nltk.tokenize import word_tokenize\n",
        "from nltk.corpus import stopwords\n",
        "from Sastrawi.Stemmer.StemmerFactory import StemmerFactory\n",
        "import numpy as np\n",
        "\n",
        "nltk.download('punkt')\n",
        "nltk.download('stopwords')\n",
        "stop_words = set(stopwords.words('indonesian'))\n",
        "\n",
        "dictionary = np.array([word.replace('\\n', '') for word in open(\"./gdrive/My Drive/skripswi/kata-dasar.txt\", 'r').readlines()])\n",
        "\n",
        "# stopword tambahan\n",
        "stop = ['tp','kl','yg','klo','tpi','yang', 'untuk', 'pada', 'ke', 'para', 'namun', 'menurut', 'antara', 'dia', 'dua', 'ia', 'seperti', 'jika', 'jika', 'sehingga', 'kembali', 'dan', 'tidak', 'ini', 'karena',  'kepada', 'oleh', 'saat', 'harus', 'sementara', 'setelah', 'belum', 'kami', 'sekitar', 'bagi', 'serta', 'di', 'dari', 'telah', 'sebagai', 'masih', 'hal', 'ketika', 'adalah', 'itu', 'dalam', 'bisa', 'bahwa', 'atau', 'hanya', 'kita', 'dengan', 'akan', 'juga', 'ada', 'mereka', 'sudah', 'saya', 'terhadap', 'secara', 'agar', 'lain', 'anda', 'begitu', 'mengapa', 'kenapa', 'yaitu', 'yakni', 'daripada', 'itulah', 'lagi', 'maka', 'tentang', 'demi', 'dimana', 'kemana', 'pula', 'sambil', 'sebelum', 'sesudah', 'supaya', 'guna', 'kah', 'pun', 'sampai', 'sedangkan', 'selagi', 'sementara', 'tetapi', 'apakah', 'kecuali', 'sebab', 'selain', 'seolah', 'seraya', 'seterusnya', 'tanpa', 'agak', 'boleh', 'dapat', 'dsb', 'dst', 'dll', 'dahulu', 'dulunya', 'anu', 'demikian', 'tapi', 'ingin', 'juga', 'nggak', 'mari', 'nanti', 'melainkan', 'oh', 'ok', 'seharusnya', 'sebetulnya',  'setiap', 'setidaknya', 'sesuatu', 'pasti', 'saja', 'toh', 'ya', 'walau', 'tolong', 'tentu', 'amat', 'apalagi', 'bagaimanapun']\n",
        "# seleksi stopword yang belum ada pada list stop_words bawaan nltk\n",
        "stop_add = [x for x in stop if x not in stop_words]\n",
        "for word in stop_add:\n",
        "  stop_words.add(word)\n",
        "\n",
        "factory = StemmerFactory()\n",
        "stemmer = factory.create_stemmer()\n",
        "\n"
      ],
      "execution_count": 0,
      "outputs": [
        {
          "output_type": "stream",
          "text": [
            "Collecting sastrawi\n",
            "\u001b[?25l  Downloading https://files.pythonhosted.org/packages/6f/4b/bab676953da3103003730b8fcdfadbdd20f333d4add10af949dd5c51e6ed/Sastrawi-1.0.1-py2.py3-none-any.whl (209kB)\n",
            "\r\u001b[K     |█▋                              | 10kB 20.0MB/s eta 0:00:01\r\u001b[K     |███▏                            | 20kB 1.6MB/s eta 0:00:01\r\u001b[K     |████▊                           | 30kB 2.3MB/s eta 0:00:01\r\u001b[K     |██████▎                         | 40kB 1.6MB/s eta 0:00:01\r\u001b[K     |███████▉                        | 51kB 2.0MB/s eta 0:00:01\r\u001b[K     |█████████▍                      | 61kB 2.3MB/s eta 0:00:01\r\u001b[K     |███████████                     | 71kB 2.7MB/s eta 0:00:01\r\u001b[K     |████████████▌                   | 81kB 3.1MB/s eta 0:00:01\r\u001b[K     |██████████████                  | 92kB 2.4MB/s eta 0:00:01\r\u001b[K     |███████████████▋                | 102kB 2.6MB/s eta 0:00:01\r\u001b[K     |█████████████████▏              | 112kB 2.6MB/s eta 0:00:01\r\u001b[K     |██████████████████▊             | 122kB 2.6MB/s eta 0:00:01\r\u001b[K     |████████████████████▎           | 133kB 2.6MB/s eta 0:00:01\r\u001b[K     |█████████████████████▉          | 143kB 2.6MB/s eta 0:00:01\r\u001b[K     |███████████████████████▍        | 153kB 2.6MB/s eta 0:00:01\r\u001b[K     |█████████████████████████       | 163kB 2.6MB/s eta 0:00:01\r\u001b[K     |██████████████████████████▋     | 174kB 2.6MB/s eta 0:00:01\r\u001b[K     |████████████████████████████▏   | 184kB 2.6MB/s eta 0:00:01\r\u001b[K     |█████████████████████████████▊  | 194kB 2.6MB/s eta 0:00:01\r\u001b[K     |███████████████████████████████▎| 204kB 2.6MB/s eta 0:00:01\r\u001b[K     |████████████████████████████████| 215kB 2.6MB/s \n",
            "\u001b[?25hInstalling collected packages: sastrawi\n",
            "Successfully installed sastrawi-1.0.1\n",
            "[nltk_data] Downloading package punkt to /root/nltk_data...\n",
            "[nltk_data]   Unzipping tokenizers/punkt.zip.\n",
            "[nltk_data] Downloading package stopwords to /root/nltk_data...\n",
            "[nltk_data]   Unzipping corpora/stopwords.zip.\n"
          ],
          "name": "stdout"
        }
      ]
    },
    {
      "cell_type": "code",
      "metadata": {
        "id": "CFaghZPJcrSw",
        "colab_type": "code",
        "outputId": "a406a8c7-1d33-4e8f-d9fe-08f73ecc9ea8",
        "colab": {
          "base_uri": "https://localhost:8080/",
          "height": 202
        }
      },
      "source": [
        "def clean_word(word):\n",
        "  lower = word.lower()\n",
        "  no_number = re.sub(r'\\d+', '', lower)\n",
        "  no_dash = no_number.replace('-', '')\n",
        "  no_punctuation = no_dash.translate(str.maketrans('', '', string.punctuation))    \n",
        "  no_white_space = re.sub(' +', '', no_punctuation)\n",
        "  stem = stemmer.stem(no_white_space)\n",
        "  stem = re.sub(' +', '', stem)\n",
        "  return stem\n",
        "\n",
        "def tweet_cleaner(tweet):\n",
        "  clean_tokens = np.array([])\n",
        "  lower = tweet.lower()\n",
        "  no_number = re.sub(r'\\d+', '', lower)\n",
        "  no_url = re.sub(r\"http\\S+\", \"\", no_number)\n",
        "  no_dash = no_url.replace(\"-\", \" \")\n",
        "  no_punctuation = no_dash.translate(str.maketrans('', '', string.punctuation))\n",
        "  no_white_space = re.sub(' +', ' ', no_punctuation)\n",
        "  tokens = word_tokenize(no_white_space)\n",
        "\n",
        "  for token in tokens:\n",
        "    if token in dictionary or token in stop_words:    \n",
        "      clean_tokens = np.append(clean_tokens, token)\n",
        "    else:    \n",
        "      stem_token = stemmer.stem(token)\n",
        "      clean_tokens = np.append(clean_tokens, stem_token)\n",
        "\n",
        "  # remove stopwords\n",
        "  no_stopwords = [i for i in clean_tokens if not i in stop_words and i in dictionary]\n",
        "  \n",
        "  stem = stemmer.stem(' '.join(no_stopwords))\n",
        "  result = re.sub(r'\\d+', '', ''.join(stem))\n",
        "  result = re.sub(' +', ' ', result)\n",
        "  return result\n",
        "\n",
        "origin_text = dummy.text.to_list()\n",
        "output_text = []\n",
        "\n",
        "for i, item in enumerate(origin_text):\n",
        "  clean_tweet = tweet_cleaner(item)\n",
        "  output_text.append(clean_tweet)\n",
        "\n",
        "dummy['stem_text'] = output_text\n",
        "dummy.tail()"
      ],
      "execution_count": 0,
      "outputs": [
        {
          "output_type": "execute_result",
          "data": {
            "text/html": [
              "<div>\n",
              "<style scoped>\n",
              "    .dataframe tbody tr th:only-of-type {\n",
              "        vertical-align: middle;\n",
              "    }\n",
              "\n",
              "    .dataframe tbody tr th {\n",
              "        vertical-align: top;\n",
              "    }\n",
              "\n",
              "    .dataframe thead th {\n",
              "        text-align: right;\n",
              "    }\n",
              "</style>\n",
              "<table border=\"1\" class=\"dataframe\">\n",
              "  <thead>\n",
              "    <tr style=\"text-align: right;\">\n",
              "      <th></th>\n",
              "      <th>text</th>\n",
              "      <th>label</th>\n",
              "      <th>nama_label</th>\n",
              "      <th>stem_text</th>\n",
              "    </tr>\n",
              "  </thead>\n",
              "  <tbody>\n",
              "    <tr>\n",
              "      <th>392</th>\n",
              "      <td>Untungnya di tahun ajaran nanti, siatim zonasi...</td>\n",
              "      <td>1</td>\n",
              "      <td>positif</td>\n",
              "      <td>untung ajar zonasi laku jenjang muat nawa cita</td>\n",
              "    </tr>\n",
              "    <tr>\n",
              "      <th>393</th>\n",
              "      <td>21. Saya mendukung juga penerapan Zonasi Guru,...</td>\n",
              "      <td>1</td>\n",
              "      <td>positif</td>\n",
              "      <td>dukung terap zonasi guru moga kualitas didik s...</td>\n",
              "    </tr>\n",
              "    <tr>\n",
              "      <th>394</th>\n",
              "      <td>22. Pastinya membantu para guru juga agar gak ...</td>\n",
              "      <td>1</td>\n",
              "      <td>positif</td>\n",
              "      <td>bantu guru murid sowan</td>\n",
              "    </tr>\n",
              "    <tr>\n",
              "      <th>395</th>\n",
              "      <td>Wah ada wacana Zonasi guru juga ternyata. Kala...</td>\n",
              "      <td>1</td>\n",
              "      <td>positif</td>\n",
              "      <td>wacana zonasi guru guru profesional sebar kual...</td>\n",
              "    </tr>\n",
              "    <tr>\n",
              "      <th>396</th>\n",
              "      <td>27. System zonasi ini merupakan program yang t...</td>\n",
              "      <td>1</td>\n",
              "      <td>positif</td>\n",
              "      <td>zonasi program integrasi bijak utuh hubung tin...</td>\n",
              "    </tr>\n",
              "  </tbody>\n",
              "</table>\n",
              "</div>"
            ],
            "text/plain": [
              "                                                  text  ...                                          stem_text\n",
              "392  Untungnya di tahun ajaran nanti, siatim zonasi...  ...     untung ajar zonasi laku jenjang muat nawa cita\n",
              "393  21. Saya mendukung juga penerapan Zonasi Guru,...  ...  dukung terap zonasi guru moga kualitas didik s...\n",
              "394  22. Pastinya membantu para guru juga agar gak ...  ...                             bantu guru murid sowan\n",
              "395  Wah ada wacana Zonasi guru juga ternyata. Kala...  ...  wacana zonasi guru guru profesional sebar kual...\n",
              "396  27. System zonasi ini merupakan program yang t...  ...  zonasi program integrasi bijak utuh hubung tin...\n",
              "\n",
              "[5 rows x 4 columns]"
            ]
          },
          "metadata": {
            "tags": []
          },
          "execution_count": 7
        }
      ]
    },
    {
      "cell_type": "markdown",
      "metadata": {
        "id": "WGThSJpexTlG",
        "colab_type": "text"
      },
      "source": [
        "# TF-IDF"
      ]
    },
    {
      "cell_type": "code",
      "metadata": {
        "id": "HohhduA0fg65",
        "colab_type": "code",
        "outputId": "d9f74bec-2e0e-487b-ee7e-df8378fa4d46",
        "colab": {
          "base_uri": "https://localhost:8080/",
          "height": 242
        }
      },
      "source": [
        "from sklearn.feature_extraction.text import TfidfVectorizer\n",
        "\n",
        "tfidf = TfidfVectorizer(sublinear_tf=True, min_df=5, norm='l2', encoding='latin-1', ngram_range=(1,2))\n",
        "feature = tfidf.fit_transform(dummy['stem_text']).toarray()   # ini yang dipakai buat klasifikasi\n",
        "labels = dummy['label']\n",
        "\n",
        "feature"
      ],
      "execution_count": 0,
      "outputs": [
        {
          "output_type": "execute_result",
          "data": {
            "text/plain": [
              "array([[0.        , 0.        , 0.        , ..., 0.        , 0.22564999,\n",
              "        0.        ],\n",
              "       [0.        , 0.53926879, 0.        , ..., 0.        , 0.        ,\n",
              "        0.        ],\n",
              "       [0.        , 0.        , 0.        , ..., 0.        , 0.        ,\n",
              "        0.        ],\n",
              "       ...,\n",
              "       [0.        , 0.        , 0.        , ..., 0.        , 0.        ,\n",
              "        0.        ],\n",
              "       [0.        , 0.        , 0.        , ..., 0.        , 0.        ,\n",
              "        0.        ],\n",
              "       [0.        , 0.        , 0.        , ..., 0.        , 0.        ,\n",
              "        0.        ]])"
            ]
          },
          "metadata": {
            "tags": []
          },
          "execution_count": 8
        }
      ]
    },
    {
      "cell_type": "code",
      "metadata": {
        "id": "tFPVx9Wya_dU",
        "colab_type": "code",
        "outputId": "a80a293b-6e9f-4696-f56c-1bac0deeee3b",
        "colab": {
          "base_uri": "https://localhost:8080/",
          "height": 225
        }
      },
      "source": [
        "print(dummy['label'])"
      ],
      "execution_count": 0,
      "outputs": [
        {
          "output_type": "stream",
          "text": [
            "0      3\n",
            "1      3\n",
            "2      3\n",
            "3      3\n",
            "4      3\n",
            "      ..\n",
            "392    1\n",
            "393    1\n",
            "394    1\n",
            "395    1\n",
            "396    1\n",
            "Name: label, Length: 397, dtype: int64\n"
          ],
          "name": "stdout"
        }
      ]
    },
    {
      "cell_type": "markdown",
      "metadata": {
        "id": "6EkVJCdjaBx_",
        "colab_type": "text"
      },
      "source": [
        "# Classification"
      ]
    },
    {
      "cell_type": "code",
      "metadata": {
        "id": "bDTR-X6eaBXE",
        "colab_type": "code",
        "outputId": "ad3c0b85-f36e-41e1-d9b2-a5d19e427204",
        "colab": {
          "base_uri": "https://localhost:8080/",
          "height": 208
        }
      },
      "source": [
        "from sklearn.model_selection import train_test_split\n",
        "from sklearn.neighbors import KNeighborsClassifier\n",
        "from sklearn import metrics\n",
        "from sklearn.model_selection import GridSearchCV\n",
        "import math\n",
        "\n",
        "x = feature\n",
        "y = dummy['label']\n",
        "\n",
        "# tahap splitting data\n",
        "# test_size=0.20 menunjukkan 20% dari seluruh data digunakan sbg data testing\n",
        "# X = teks, y = label\n",
        "X_train, X_test, y_train, y_test = train_test_split(x, y, test_size=0.20, random_state=0) \n",
        "\n",
        "total_n = int(math.floor(math.sqrt(len(dummy))))\n",
        "\n",
        "# proses training\n",
        "# inisialisasi\n",
        "knn = KNeighborsClassifier(metric='cosine', n_neighbors=6)\n",
        "\n",
        "# memasukkan data training + label ke model knn\n",
        "knn.fit(X_train, y_train)\n",
        "\n",
        "# proses testing\n",
        "y_pred = knn.predict(X_test)\n",
        "\n",
        "# print akurasi\n",
        "print(metrics.accuracy_score(y_test, y_pred))\n",
        "\n",
        "# laporan akurasi, recall, f1, precision\n",
        "print(metrics.classification_report(y_test, y_pred, target_names=dummy['nama_label'].unique()))"
      ],
      "execution_count": 0,
      "outputs": [
        {
          "output_type": "stream",
          "text": [
            "0.6125\n",
            "              precision    recall  f1-score   support\n",
            "\n",
            "      netral       0.61      0.83      0.70        24\n",
            "     negatif       0.48      0.57      0.52        21\n",
            "     positif       0.77      0.49      0.60        35\n",
            "\n",
            "    accuracy                           0.61        80\n",
            "   macro avg       0.62      0.63      0.61        80\n",
            "weighted avg       0.65      0.61      0.61        80\n",
            "\n"
          ],
          "name": "stdout"
        }
      ]
    },
    {
      "cell_type": "markdown",
      "metadata": {
        "id": "56IuRiMri4vJ",
        "colab_type": "text"
      },
      "source": [
        "# Tuning Hyperparameter"
      ]
    },
    {
      "cell_type": "markdown",
      "metadata": {
        "id": "XQ0HbNiCUmcx",
        "colab_type": "text"
      },
      "source": [
        "### Tuning menggunakan GridSearchCV"
      ]
    },
    {
      "cell_type": "code",
      "metadata": {
        "id": "5Z2m7NZ3i6ts",
        "colab_type": "code",
        "outputId": "6b5a22c8-3fc7-4bcc-d1ff-4c72ecb67354",
        "colab": {
          "base_uri": "https://localhost:8080/",
          "height": 569
        }
      },
      "source": [
        "params = {\n",
        "    'n_neighbors': list(range(1,total_n+1)),\n",
        "    'metric': ['cosine']\n",
        "}\n",
        "\n",
        "# tuning nilai k dari angka 1 hingga akar dari total data\n",
        "# cv=10 berarti menerapkan 10-Fold Cross Validation\n",
        "gsc = GridSearchCV(knn, params, n_jobs=-1, cv=10)\n",
        "\n",
        "gsc_result = gsc.fit(X_train, y_train)\n",
        "\n",
        "print(gsc_result.best_score_)\n",
        "print(gsc_result.best_params_)\n",
        "print(gsc_result.best_estimator_)\n",
        "\n",
        "# simpan hasil cross validation ke dataframe\n",
        "gsc_df = pd.DataFrame(gsc_result.cv_results_)\n",
        "gsc_df.head()"
      ],
      "execution_count": 0,
      "outputs": [
        {
          "output_type": "stream",
          "text": [
            "0.6446572580645162\n",
            "{'metric': 'cosine', 'n_neighbors': 10}\n",
            "KNeighborsClassifier(algorithm='auto', leaf_size=30, metric='cosine',\n",
            "                     metric_params=None, n_jobs=None, n_neighbors=10, p=2,\n",
            "                     weights='uniform')\n"
          ],
          "name": "stdout"
        },
        {
          "output_type": "execute_result",
          "data": {
            "text/html": [
              "<div>\n",
              "<style scoped>\n",
              "    .dataframe tbody tr th:only-of-type {\n",
              "        vertical-align: middle;\n",
              "    }\n",
              "\n",
              "    .dataframe tbody tr th {\n",
              "        vertical-align: top;\n",
              "    }\n",
              "\n",
              "    .dataframe thead th {\n",
              "        text-align: right;\n",
              "    }\n",
              "</style>\n",
              "<table border=\"1\" class=\"dataframe\">\n",
              "  <thead>\n",
              "    <tr style=\"text-align: right;\">\n",
              "      <th></th>\n",
              "      <th>mean_fit_time</th>\n",
              "      <th>std_fit_time</th>\n",
              "      <th>mean_score_time</th>\n",
              "      <th>std_score_time</th>\n",
              "      <th>param_metric</th>\n",
              "      <th>param_n_neighbors</th>\n",
              "      <th>params</th>\n",
              "      <th>split0_test_score</th>\n",
              "      <th>split1_test_score</th>\n",
              "      <th>split2_test_score</th>\n",
              "      <th>split3_test_score</th>\n",
              "      <th>split4_test_score</th>\n",
              "      <th>split5_test_score</th>\n",
              "      <th>split6_test_score</th>\n",
              "      <th>split7_test_score</th>\n",
              "      <th>split8_test_score</th>\n",
              "      <th>split9_test_score</th>\n",
              "      <th>mean_test_score</th>\n",
              "      <th>std_test_score</th>\n",
              "      <th>rank_test_score</th>\n",
              "    </tr>\n",
              "  </thead>\n",
              "  <tbody>\n",
              "    <tr>\n",
              "      <th>0</th>\n",
              "      <td>0.001981</td>\n",
              "      <td>0.000568</td>\n",
              "      <td>0.005181</td>\n",
              "      <td>0.001555</td>\n",
              "      <td>cosine</td>\n",
              "      <td>1</td>\n",
              "      <td>{'metric': 'cosine', 'n_neighbors': 1}</td>\n",
              "      <td>0.46875</td>\n",
              "      <td>0.50000</td>\n",
              "      <td>0.50000</td>\n",
              "      <td>0.56250</td>\n",
              "      <td>0.50000</td>\n",
              "      <td>0.59375</td>\n",
              "      <td>0.56250</td>\n",
              "      <td>0.709677</td>\n",
              "      <td>0.645161</td>\n",
              "      <td>0.451613</td>\n",
              "      <td>0.549395</td>\n",
              "      <td>0.077818</td>\n",
              "      <td>18</td>\n",
              "    </tr>\n",
              "    <tr>\n",
              "      <th>1</th>\n",
              "      <td>0.002343</td>\n",
              "      <td>0.001080</td>\n",
              "      <td>0.006647</td>\n",
              "      <td>0.002185</td>\n",
              "      <td>cosine</td>\n",
              "      <td>2</td>\n",
              "      <td>{'metric': 'cosine', 'n_neighbors': 2}</td>\n",
              "      <td>0.37500</td>\n",
              "      <td>0.53125</td>\n",
              "      <td>0.46875</td>\n",
              "      <td>0.50000</td>\n",
              "      <td>0.56250</td>\n",
              "      <td>0.59375</td>\n",
              "      <td>0.46875</td>\n",
              "      <td>0.741935</td>\n",
              "      <td>0.677419</td>\n",
              "      <td>0.387097</td>\n",
              "      <td>0.530645</td>\n",
              "      <td>0.111632</td>\n",
              "      <td>19</td>\n",
              "    </tr>\n",
              "    <tr>\n",
              "      <th>2</th>\n",
              "      <td>0.001915</td>\n",
              "      <td>0.000311</td>\n",
              "      <td>0.006927</td>\n",
              "      <td>0.002711</td>\n",
              "      <td>cosine</td>\n",
              "      <td>3</td>\n",
              "      <td>{'metric': 'cosine', 'n_neighbors': 3}</td>\n",
              "      <td>0.50000</td>\n",
              "      <td>0.46875</td>\n",
              "      <td>0.56250</td>\n",
              "      <td>0.56250</td>\n",
              "      <td>0.62500</td>\n",
              "      <td>0.50000</td>\n",
              "      <td>0.59375</td>\n",
              "      <td>0.645161</td>\n",
              "      <td>0.677419</td>\n",
              "      <td>0.516129</td>\n",
              "      <td>0.565121</td>\n",
              "      <td>0.066034</td>\n",
              "      <td>17</td>\n",
              "    </tr>\n",
              "    <tr>\n",
              "      <th>3</th>\n",
              "      <td>0.001740</td>\n",
              "      <td>0.000108</td>\n",
              "      <td>0.005281</td>\n",
              "      <td>0.001631</td>\n",
              "      <td>cosine</td>\n",
              "      <td>4</td>\n",
              "      <td>{'metric': 'cosine', 'n_neighbors': 4}</td>\n",
              "      <td>0.53125</td>\n",
              "      <td>0.46875</td>\n",
              "      <td>0.56250</td>\n",
              "      <td>0.65625</td>\n",
              "      <td>0.59375</td>\n",
              "      <td>0.53125</td>\n",
              "      <td>0.59375</td>\n",
              "      <td>0.645161</td>\n",
              "      <td>0.645161</td>\n",
              "      <td>0.580645</td>\n",
              "      <td>0.580847</td>\n",
              "      <td>0.056669</td>\n",
              "      <td>15</td>\n",
              "    </tr>\n",
              "    <tr>\n",
              "      <th>4</th>\n",
              "      <td>0.001712</td>\n",
              "      <td>0.000137</td>\n",
              "      <td>0.006093</td>\n",
              "      <td>0.002221</td>\n",
              "      <td>cosine</td>\n",
              "      <td>5</td>\n",
              "      <td>{'metric': 'cosine', 'n_neighbors': 5}</td>\n",
              "      <td>0.59375</td>\n",
              "      <td>0.43750</td>\n",
              "      <td>0.53125</td>\n",
              "      <td>0.59375</td>\n",
              "      <td>0.59375</td>\n",
              "      <td>0.46875</td>\n",
              "      <td>0.59375</td>\n",
              "      <td>0.645161</td>\n",
              "      <td>0.645161</td>\n",
              "      <td>0.677419</td>\n",
              "      <td>0.578024</td>\n",
              "      <td>0.073321</td>\n",
              "      <td>16</td>\n",
              "    </tr>\n",
              "  </tbody>\n",
              "</table>\n",
              "</div>"
            ],
            "text/plain": [
              "   mean_fit_time  std_fit_time  ...  std_test_score  rank_test_score\n",
              "0       0.001981      0.000568  ...        0.077818               18\n",
              "1       0.002343      0.001080  ...        0.111632               19\n",
              "2       0.001915      0.000311  ...        0.066034               17\n",
              "3       0.001740      0.000108  ...        0.056669               15\n",
              "4       0.001712      0.000137  ...        0.073321               16\n",
              "\n",
              "[5 rows x 20 columns]"
            ]
          },
          "metadata": {
            "tags": []
          },
          "execution_count": 27
        }
      ]
    },
    {
      "cell_type": "markdown",
      "metadata": {
        "id": "F9c6iPIUqBuH",
        "colab_type": "text"
      },
      "source": [
        "### Plot grafik nilai *K*"
      ]
    },
    {
      "cell_type": "code",
      "metadata": {
        "id": "LEfZF25KqEki",
        "colab_type": "code",
        "outputId": "ce629e67-6ad9-427d-d1e1-684d2522fe59",
        "colab": {
          "base_uri": "https://localhost:8080/",
          "height": 313
        }
      },
      "source": [
        "import matplotlib.pyplot as plt\n",
        "\n",
        "meanscore = gsc_df['mean_test_score']\n",
        "k_range = range(1, total_n+1)\n",
        "k_score = meanscore.as_matrix()\n",
        "\n",
        "plt.plot(k_range, k_score)\n",
        "plt.xlabel('Nomor K')\n",
        "plt.ylabel('score K')\n",
        "plt.show()"
      ],
      "execution_count": 0,
      "outputs": [
        {
          "output_type": "stream",
          "text": [
            "/usr/local/lib/python3.6/dist-packages/ipykernel_launcher.py:5: FutureWarning: Method .as_matrix will be removed in a future version. Use .values instead.\n",
            "  \"\"\"\n"
          ],
          "name": "stderr"
        },
        {
          "output_type": "display_data",
          "data": {
            "image/png": "[encoded data removed]",
            "text/plain": [
              "<Figure size 432x288 with 1 Axes>"
            ]
          },
          "metadata": {
            "tags": []
          }
        }
      ]
    },
    {
      "cell_type": "code",
      "metadata": {
        "id": "ULB_WlcYU4Bi",
        "colab_type": "code",
        "outputId": "cdd51885-c21a-4950-d7bb-5c1217d15983",
        "colab": {
          "base_uri": "https://localhost:8080/",
          "height": 34
        }
      },
      "source": [
        "from sklearn.model_selection import KFold\n",
        "\n",
        "kf = KFold(n_splits=10)\n",
        "scores = []\n",
        "\n",
        "clf = gsc_result.best_estimator_\n",
        "i=1\n",
        "y_test_reindex = y_test.reset_index(drop=True)\n",
        "\n",
        "for _,test_index in kf.split(y_test):\n",
        "  # print('FOLD ', i)\n",
        "  # print(\"TEST: \", test_index)\n",
        "  test_data = X_test[test_index]\n",
        "  test_label = y_test_reindex[test_index]    \n",
        "  pred_label = clf.predict(test_data)  \n",
        "  scores.append(metrics.accuracy_score(test_label, pred_label))\n",
        "  # print(metrics.accuracy_score(test_label, pred_label))\n",
        "  i+=1\n",
        "\n",
        "print(np.mean(scores))"
      ],
      "execution_count": 0,
      "outputs": [
        {
          "output_type": "stream",
          "text": [
            "0.575\n"
          ],
          "name": "stdout"
        }
      ]
    },
    {
      "cell_type": "markdown",
      "metadata": {
        "id": "cFW-FiJlvF0-",
        "colab_type": "text"
      },
      "source": [
        "### Tuning manual"
      ]
    },
    {
      "cell_type": "code",
      "metadata": {
        "id": "kHBQ78U0vHXI",
        "colab_type": "code",
        "outputId": "5843a35f-de47-43ad-fb01-bf5cfab58a52",
        "colab": {
          "base_uri": "https://localhost:8080/",
          "height": 296
        }
      },
      "source": [
        "from sklearn.model_selection import cross_val_score\n",
        "from sklearn.model_selection import KFold\n",
        "\n",
        "kf = KFold(n_splits=10)\n",
        "k_range = range(1,19)\n",
        "k_score = []\n",
        "i=1\n",
        "y_test_reindex = y_test.reset_index(drop=True)\n",
        "\n",
        "for k in k_range:\n",
        "  knn = KNeighborsClassifier(n_neighbors=k, metric='cosine')\n",
        "  knn.fit(X_train, y_train)\n",
        "  scores = []\n",
        "  for _, test_index in kf.split(X_test):  \n",
        "    test_data = X_test[test_index]  \n",
        "    test_label = y_test_reindex[test_index]    \n",
        "    pred_label = knn.predict(test_data)  \n",
        "    scores.append(metrics.accuracy_score(test_label, pred_label))          \n",
        "    \n",
        "    # print(metrics.accuracy_score(y_test, test_predict))    \n",
        "  \n",
        "  # print(np.mean(scores))\n",
        "  k_score.append(np.mean(scores))\n",
        "\n",
        "print(k_score)\n",
        "# result = np.where(k_score==np.amax(k_score))\n",
        "# print(np.amax(k_score), result[0])\n",
        "\n",
        "plt.plot(k_range, k_score)\n",
        "plt.xlabel('Nomor K')\n",
        "plt.ylabel('score K')\n",
        "plt.show()"
      ],
      "execution_count": 0,
      "outputs": [
        {
          "output_type": "stream",
          "text": [
            "[0.5625, 0.525, 0.55, 0.575, 0.6, 0.6125, 0.575, 0.575, 0.5375, 0.575, 0.5625, 0.55, 0.5625, 0.575, 0.4875, 0.525, 0.525, 0.5375]\n"
          ],
          "name": "stdout"
        },
        {
          "output_type": "display_data",
          "data": {
            "image/png": "[encoded data removed]",
            "text/plain": [
              "<Figure size 432x288 with 1 Axes>"
            ]
          },
          "metadata": {
            "tags": []
          }
        }
      ]
    },
    {
      "cell_type": "markdown",
      "metadata": {
        "id": "d76FeNYfDoUp",
        "colab_type": "text"
      },
      "source": [
        "dari grafik, terlihat bahwa akurasi terbaik sebesar 0.6125 dengan K=6"
      ]
    },
    {
      "cell_type": "markdown",
      "metadata": {
        "id": "e3PCaZfiXyM4",
        "colab_type": "text"
      },
      "source": [
        "# Confusion Matrix"
      ]
    },
    {
      "cell_type": "code",
      "metadata": {
        "id": "HXxzGtMhXzw4",
        "colab_type": "code",
        "outputId": "5a8133ff-5917-4270-a04f-b40ada15de02",
        "colab": {
          "base_uri": "https://localhost:8080/",
          "height": 514
        }
      },
      "source": [
        "from sklearn.metrics import confusion_matrix\n",
        "import seaborn as sns\n",
        "import matplotlib.pyplot as plt\n",
        "\n",
        "knn = KNeighborsClassifier(n_neighbors=6, metric='cosine')\n",
        "knn.fit(X_train, y_train)\n",
        "y_pred = knn.predict(X_test)\n",
        "print(metrics.accuracy_score(y_test,y_pred))\n",
        "\n",
        "fig, ax = plt.subplots(figsize=(8,8))\n",
        "category = dummy[['nama_label', 'label']].drop_duplicates().sort_values('label')\n",
        "conf_matrix = confusion_matrix(y_test, y_pred)\n",
        "sns.heatmap(conf_matrix, annot=True, fmt='d', xticklabels=category['nama_label'].values, yticklabels=category['nama_label'].values)\n",
        "plt.xlabel('Predicted')\n",
        "plt.ylabel('Actual')\n",
        "plt.show()"
      ],
      "execution_count": 0,
      "outputs": [
        {
          "output_type": "stream",
          "text": [
            "0.6125\n"
          ],
          "name": "stdout"
        },
        {
          "output_type": "display_data",
          "data": {
            "image/png": "[encoded data removed]",
            "text/plain": [
              "<Figure size 576x576 with 2 Axes>"
            ]
          },
          "metadata": {
            "tags": []
          }
        }
      ]
    }
  ]
}